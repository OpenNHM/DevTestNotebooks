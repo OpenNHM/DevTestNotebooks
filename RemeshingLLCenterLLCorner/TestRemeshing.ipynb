{
 "cells": [
  {
   "cell_type": "markdown",
   "id": "819b391e1ce72014",
   "metadata": {},
   "source": [
    "# Test old vs new remeshing -> Extent problem"
   ]
  },
  {
   "cell_type": "code",
   "execution_count": null,
   "id": "57bd21c885ba4fc",
   "metadata": {
    "ExecuteTime": {
     "end_time": "2025-01-10T21:20:15.751172Z",
     "start_time": "2025-01-10T21:20:15.729926Z"
    }
   },
   "outputs": [],
   "source": [
    "import rasterio\n",
    "import rasterio.plot\n",
    "import rasterio.warp\n",
    "from rasterio.crs import CRS\n",
    "from rasterio.enums import Resampling\n",
    "import matplotlib.pyplot as plt\n",
    "import numpy as np\n",
    "import pathlib\n",
    "import avaframe.in3Utils.fileHandlerUtils as fU\n",
    "import avaframe.in2Trans.rasterUtils as IOf\n",
    "import subprocess\n",
    "import configparser\n",
    "import avaframe.in2Trans.rasterUtils as rU\n",
    "%load_ext autoreload\n",
    "%autoreload 2\n",
    "import avaframe.in3Utils.geoTrans as geoTrans"
   ]
  },
  {
   "cell_type": "code",
   "execution_count": null,
   "id": "1d681cd07be0027",
   "metadata": {
    "ExecuteTime": {
     "end_time": "2025-01-10T21:20:15.796676Z",
     "start_time": "2025-01-10T21:20:15.781861Z"
    }
   },
   "outputs": [],
   "source": [
    "def getIPZ(z0, xEnd, yEnd, dx):\n",
    "    meanAlpha = 30.0\n",
    "    nstepsX = int((xEnd + dx) / dx)\n",
    "    nstepsY = int((yEnd + dx) / dx)\n",
    "    xv = np.linspace(0, xEnd, nstepsX)\n",
    "    yv = np.linspace(0, yEnd, nstepsY)\n",
    "    nRows = len(yv)\n",
    "    nCols = len(xv)\n",
    "    x, y = np.meshgrid(xv, yv)\n",
    "    zv = np.zeros((nRows, nCols))\n",
    "    # Set surface elevation from slope and max. elevation\n",
    "    zv = z0 - np.tan(np.radians(meanAlpha)) * x\n",
    "\n",
    "    return zv"
   ]
  },
  {
   "cell_type": "code",
   "execution_count": null,
   "id": "3d875c6e-ed10-405d-95d0-cbcd84594020",
   "metadata": {},
   "outputs": [],
   "source": [
    "def getXCoords(src,data):\n",
    "\n",
    "    height, width = data.shape #Find the height and width of the array\n",
    "\n",
    "    #Two arrays with the same shape as the input array/raster, where each value is the x or y index of that cell\n",
    "    cols, rows = np.meshgrid(np.arange(width), np.arange(height)) \n",
    "\n",
    "    #Two arrays with the same shape as the input array/raster, where each value is the x or y coordinate of that cell \n",
    "    xs, ys = rasterio.transform.xy(src.transform, rows, cols) \n",
    "\n",
    "    #They are actually lists, convert them to arrays\n",
    "    xcoords = np.array(xs[0])\n",
    "    ycoords = np.array(ys)\n",
    "\n",
    "    return xcoords"
   ]
  },
  {
   "cell_type": "markdown",
   "id": "4a350ca5833382e0",
   "metadata": {},
   "source": [
    "Generate a header info"
   ]
  },
  {
   "cell_type": "code",
   "execution_count": null,
   "id": "e0b032eebeb922ad",
   "metadata": {
    "ExecuteTime": {
     "end_time": "2025-01-10T21:20:15.845672Z",
     "start_time": "2025-01-10T21:20:15.832146Z"
    }
   },
   "outputs": [],
   "source": [
    "cellSize = 5\n",
    "nCols = 4\n",
    "nRows = 5\n",
    "xllcenter = 0\n",
    "yllcenter = 0\n",
    "nodata_value = -9999\n",
    "\n",
    "newCellSize = 2\n",
    "\n",
    "# rasterio requires west, north\n",
    "# rasterio.transform.from_origin(west, north, xsize, ysize)\n",
    "transform = rasterio.transform.from_origin(xllcenter - cellSize / 2,\n",
    "                                           (yllcenter - cellSize / 2) + nRows * cellSize,\n",
    "                                           cellSize,\n",
    "                                           cellSize)\n",
    "crs = rasterio.crs.CRS()\n",
    "\n",
    "headerInfo = {\n",
    "    \"cellsize\": cellSize,\n",
    "    \"nrows\": nRows,\n",
    "    \"ncols\": nCols,\n",
    "    \"nodata_value\": nodata_value,\n",
    "    \"xllcenter\": xllcenter,\n",
    "    \"yllcenter\": yllcenter,\n",
    "    \"driver\": \"AAIGrid\",\n",
    "    \"crs\": crs,\n",
    "    \"transform\": transform,\n",
    "}\n",
    "print(headerInfo)\n",
    "print(transform)"
   ]
  },
  {
   "cell_type": "code",
   "execution_count": null,
   "id": "d5dfa0b40b236f88",
   "metadata": {
    "ExecuteTime": {
     "end_time": "2025-01-10T21:20:15.893935Z",
     "start_time": "2025-01-10T21:20:15.881012Z"
    }
   },
   "outputs": [],
   "source": [
    "# create an inclined plane\n",
    "z0 = 10\n",
    "data = getIPZ(z0, (nCols -1) * cellSize, (nRows-1)*cellSize, cellSize)"
   ]
  },
  {
   "cell_type": "markdown",
   "id": "38320f80ee52dfdd",
   "metadata": {},
   "source": [
    "## Old remesh\n"
   ]
  },
  {
   "cell_type": "markdown",
   "id": "79453ce62f46f181",
   "metadata": {},
   "source": [
    "Generate a flat plane example"
   ]
  },
  {
   "cell_type": "code",
   "execution_count": null,
   "id": "77ef00314803dc86",
   "metadata": {
    "ExecuteTime": {
     "end_time": "2025-01-10T21:20:15.947405Z",
     "start_time": "2025-01-10T21:20:15.930058Z"
    }
   },
   "outputs": [],
   "source": [
    "\n",
    "avaDir = pathlib.Path('./', \"avaTest\")\n",
    "fU.makeADir(avaDir)\n",
    "fU.makeADir((avaDir / \"Inputs\"))\n",
    "avaDEM = avaDir / \"Inputs\" / \"avaAlr\"\n",
    "avaDEM = IOf.writeResultToRaster(headerInfo, data, avaDEM, flip=True)\n",
    "subprocess.run([\"head\", \"-n7\", avaDEM])"
   ]
  },
  {
   "cell_type": "code",
   "execution_count": null,
   "id": "eb0dd468f98a7b56",
   "metadata": {
    "ExecuteTime": {
     "end_time": "2025-01-10T21:20:16.002961Z",
     "start_time": "2025-01-10T21:20:15.982807Z"
    }
   },
   "outputs": [],
   "source": [
    "cfg = configparser.ConfigParser()\n",
    "cfg[\"GENERAL\"] = {\n",
    "    \"meshCellSizeThreshold\": \"0.0001\",\n",
    "    \"meshCellSize\": newCellSize,\n",
    "    \"avalancheDir\": str(avaDir),\n",
    "}\n",
    "\n",
    "# call function\n",
    "# %timeit geoTrans.remeshRaster(avaDEM, cfg, legacy=True)\n",
    "pathDem = geoTrans.remeshRaster(avaDEM, cfg, legacy=True)\n",
    "fullP = avaDir / \"Inputs\" / pathDem\n",
    "print(fullP)\n",
    "subprocess.run([\"head\", \"-n7\", fullP])"
   ]
  },
  {
   "cell_type": "markdown",
   "id": "bf7357dbb3c0e658",
   "metadata": {},
   "source": [
    "So llcenter stays the same at 0,0 and western column keeps the same values, but eastern column is inside the original\n",
    " grid (i.e. higher value than the original one\n",
    "\n",
    "## New remesh"
   ]
  },
  {
   "cell_type": "code",
   "execution_count": null,
   "id": "1b75580b1850ec2b",
   "metadata": {
    "ExecuteTime": {
     "end_time": "2025-01-10T21:20:16.047215Z",
     "start_time": "2025-01-10T21:20:16.031028Z"
    }
   },
   "outputs": [],
   "source": [
    "avaDirNew = pathlib.Path('./', \"avaTestNew\")\n",
    "fU.makeADir(avaDirNew)\n",
    "fU.makeADir((avaDirNew / \"Inputs\"))\n",
    "avaDEMNew = avaDirNew / \"Inputs\" / \"avaAlr\"\n",
    "avaDEMNew = IOf.writeResultToRaster(headerInfo, data, avaDEMNew, flip=True)\n"
   ]
  },
  {
   "cell_type": "code",
   "execution_count": null,
   "id": "3d02158f21fc0ff1",
   "metadata": {
    "ExecuteTime": {
     "end_time": "2025-01-10T21:20:16.216054Z",
     "start_time": "2025-01-10T21:20:16.195813Z"
    }
   },
   "outputs": [],
   "source": [
    "cfg = configparser.ConfigParser()\n",
    "cfg[\"GENERAL\"] = {\n",
    "    \"meshCellSizeThreshold\": \"0.0001\",\n",
    "    \"meshCellSize\": newCellSize,\n",
    "    \"avalancheDir\": str(avaDirNew),\n",
    "}\n",
    "\n",
    "#%timeit geoTrans.remeshRaster(avaDEMNew, cfg)\n",
    "pathDemNew = geoTrans.remeshRaster(avaDEMNew, cfg)\n",
    "fullPNew = avaDirNew / \"Inputs\" / pathDem\n",
    "subprocess.run([\"head\", \"-n7\", fullPNew])"
   ]
  },
  {
   "cell_type": "markdown",
   "id": "3a58334d9909f309",
   "metadata": {},
   "source": [
    "So llcenter moved to -1.5,-0.5 and 2 columns more (1 east 1 west) than legacy and one row more"
   ]
  },
  {
   "cell_type": "markdown",
   "id": "aa4ce2ee0aadd71d",
   "metadata": {},
   "source": [
    "## Plotting the differences"
   ]
  },
  {
   "cell_type": "code",
   "execution_count": null,
   "id": "13853158702b346e",
   "metadata": {
    "ExecuteTime": {
     "end_time": "2025-01-10T21:20:16.290131Z",
     "start_time": "2025-01-10T21:20:16.275002Z"
    }
   },
   "outputs": [],
   "source": [
    "oldRaster = rU.readRaster(fullP)\n",
    "newRaster = rU.readRaster(fullPNew)\n",
    "#print(oldRaster[\"header\"])\n",
    "#print(newRaster[\"header\"])\n",
    "subprocess.run([\"head\", \"-n7\", fullP])\n",
    "subprocess.run([\"head\", \"-n7\", fullPNew])"
   ]
  },
  {
   "cell_type": "code",
   "execution_count": null,
   "id": "31925e505ba1af69",
   "metadata": {
    "ExecuteTime": {
     "end_time": "2025-01-10T21:20:16.408322Z",
     "start_time": "2025-01-10T21:20:16.324074Z"
    }
   },
   "outputs": [],
   "source": [
    "rasterio.plot.show(oldRaster['rasterData'])\n",
    "rasterio.plot.show(newRaster['rasterData'])"
   ]
  },
  {
   "cell_type": "code",
   "execution_count": null,
   "id": "130a5e20-43c5-464c-b7cd-eca4b5db3eb9",
   "metadata": {},
   "outputs": [],
   "source": [
    "srcOrigDEM = rasterio.open(avaDEM, 'r')\n",
    "dataOrigDEM = srcOrigDEM.read(1)\n",
    "origX = getXCoords(srcOrigDEM, dataOrigDEM)\n",
    "\n",
    "srcOrigRemesh = rasterio.open(fullP, 'r')\n",
    "dataOrigRemesh = srcOrigRemesh.read(1)\n",
    "origRemeshX = getXCoords(srcOrigRemesh,dataOrigRemesh)\n",
    "\n",
    "srcNewRemesh = rasterio.open(fullPNew, 'r')\n",
    "dataNewRemesh = srcNewRemesh.read(1)\n",
    "dataNewRemesh = np.where(dataNewRemesh == srcNewRemesh.nodata, np.nan, dataNewRemesh)\n",
    "newX = getXCoords(srcNewRemesh,dataNewRemesh)\n",
    "\n",
    "\n",
    "\n",
    "# Plot the GeoTIFF\n",
    "#fig, ax = plt.subplots(figsize=(10, 10))\n",
    "fig, (axorig, axOrigRemesh,axNew) = plt.subplots(1, 3, figsize=(19,8))\n",
    "axorig.set_title(\"OrigDEM\")\n",
    "axorig.set_xlim([-5, 20])\n",
    "axorig.set_ylim([-5, 25])\n",
    "axorig.hlines([-2.5,22.5],-5,20)\n",
    "axorig.vlines([-2.5,17.5],-5,25)\n",
    "axorig.grid()\n",
    "axOrigRemesh.set_title(\"Orig Remesh\")\n",
    "axOrigRemesh.set_xlim([-5, 20])\n",
    "axOrigRemesh.set_ylim([-5, 25])\n",
    "axOrigRemesh.hlines([-2.5,22.5],-5,20)\n",
    "axOrigRemesh.vlines([-2.5,17.5],-5,25)\n",
    "axOrigRemesh.grid()\n",
    "axNew.set_title(\"New Remesh\")\n",
    "axNew.set_xlim([-5, 20])\n",
    "axNew.set_ylim([-5, 25])\n",
    "axNew.hlines([-2.5,22.5],-5,20)\n",
    "axNew.vlines([-2.5,17.5],-5,25)\n",
    "axNew.grid()\n",
    "\n",
    "rasterio.plot.show(dataOrigDEM, transform=srcOrigDEM.transform, ax=axorig, alpha=1, cmap=\"viridis\", zorder=5, vmin=0, vmax=10)\n",
    "rasterio.plot.show(dataOrigRemesh, transform=srcOrigRemesh.transform, ax=axOrigRemesh, alpha=1, cmap=\"viridis\", zorder=5, vmin=0, vmax=10)\n",
    "rasterio.plot.show(dataNewRemesh, transform=srcNewRemesh.transform, ax=axNew, alpha=1, cmap=\"viridis\", zorder=5, vmin=0, vmax=10)\n"
   ]
  },
  {
   "cell_type": "code",
   "execution_count": null,
   "id": "a1679514-de80-4d03-a312-63ce7502b1c8",
   "metadata": {},
   "outputs": [],
   "source": [
    "fig2, ax2 = plt.subplots(figsize=(19,8))\n",
    "profOrig = dataOrigDEM[1,:]\n",
    "profOldRe = dataOrigRemesh[1,:]\n",
    "profNewRe = dataNewRemesh[1,:]\n",
    "print(profNewRe)\n",
    "plt.plot(origX,profOrig,'-*',label=\"Orig DEM\")\n",
    "plt.plot(origRemeshX,profOldRe,'-x',label=\"Orig Remesh\")\n",
    "plt.plot(newX,profNewRe,'-X',label='New Remesh')\n",
    "ax2.legend()"
   ]
  },
  {
   "cell_type": "code",
   "execution_count": null,
   "id": "7ac31856-0240-4d7a-b3cf-3201fd1ec240",
   "metadata": {},
   "outputs": [],
   "source": []
  }
 ],
 "metadata": {
  "kernelspec": {
   "display_name": "Python 3 (ipykernel)",
   "language": "python",
   "name": "python3"
  },
  "language_info": {
   "codemirror_mode": {
    "name": "ipython",
    "version": 3
   },
   "file_extension": ".py",
   "mimetype": "text/x-python",
   "name": "python",
   "nbconvert_exporter": "python",
   "pygments_lexer": "ipython3",
   "version": "3.12.3"
  }
 },
 "nbformat": 4,
 "nbformat_minor": 5
}
