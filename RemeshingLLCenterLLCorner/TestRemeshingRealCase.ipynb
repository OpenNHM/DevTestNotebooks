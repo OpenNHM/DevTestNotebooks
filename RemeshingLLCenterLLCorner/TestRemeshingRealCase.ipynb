{
 "cells": [
  {
   "cell_type": "markdown",
   "id": "819b391e1ce72014",
   "metadata": {},
   "source": [
    "# Test old vs new remeshing ->  REAL CASE"
   ]
  },
  {
   "cell_type": "code",
   "execution_count": null,
   "id": "57bd21c885ba4fc",
   "metadata": {
    "ExecuteTime": {
     "end_time": "2025-01-10T21:20:15.751172Z",
     "start_time": "2025-01-10T21:20:15.729926Z"
    }
   },
   "outputs": [],
   "source": [
    "import rasterio\n",
    "import shutil\n",
    "import rasterio.plot\n",
    "import rasterio.warp\n",
    "from rasterio.crs import CRS\n",
    "from rasterio.enums import Resampling\n",
    "import matplotlib.pyplot as plt\n",
    "import numpy as np\n",
    "import pathlib\n",
    "import avaframe.in3Utils.fileHandlerUtils as fU\n",
    "import avaframe.in2Trans.rasterUtils as IOf\n",
    "import subprocess\n",
    "import configparser\n",
    "import avaframe.in2Trans.rasterUtils as rU\n",
    "%load_ext autoreload\n",
    "%autoreload 2\n",
    "import avaframe.in3Utils.geoTrans as geoTrans"
   ]
  },
  {
   "cell_type": "code",
   "execution_count": null,
   "id": "3d875c6e-ed10-405d-95d0-cbcd84594020",
   "metadata": {},
   "outputs": [],
   "source": [
    "def getXCoords(src,data):\n",
    "\n",
    "    height, width = data.shape #Find the height and width of the array\n",
    "\n",
    "    #Two arrays with the same shape as the input array/raster, where each value is the x or y index of that cell\n",
    "    cols, rows = np.meshgrid(np.arange(width), np.arange(height)) \n",
    "\n",
    "    #Two arrays with the same shape as the input array/raster, where each value is the x or y coordinate of that cell \n",
    "    xs, ys = rasterio.transform.xy(src.transform, rows, cols) \n",
    "\n",
    "    #They are actually lists, convert them to arrays\n",
    "    xcoords = np.array(xs[0])\n",
    "    ycoords = np.array(ys)\n",
    "\n",
    "    return xcoords"
   ]
  },
  {
   "cell_type": "markdown",
   "id": "4a350ca5833382e0",
   "metadata": {},
   "source": [
    "# Get reference solution raster"
   ]
  },
  {
   "cell_type": "code",
   "execution_count": null,
   "id": "e0b032eebeb922ad",
   "metadata": {
    "ExecuteTime": {
     "end_time": "2025-01-10T21:20:15.845672Z",
     "start_time": "2025-01-10T21:20:15.832146Z"
    }
   },
   "outputs": [],
   "source": [
    "solRaster = '/home/felix/Versioning/AvaFrame/avaframe/tests/data/remeshedDEM8.00.asc'\n",
    "dataSol = IOf.readRaster(solRaster)\n",
    "\n",
    "avaDir = pathlib.Path('./RTest')\n",
    "demToRemesh = '/home/felix/Versioning/AvaFrame/avaframe/tests/../data/avaParabola/Inputs/DEM_PF_Topo.asc'\n",
    "avaDEM = avaDir / \"Inputs\" / \"DEM_PF_Topo.asc\"\n",
    "shutil.copy(demToRemesh, avaDEM)"
   ]
  },
  {
   "cell_type": "markdown",
   "id": "c7a7bdac-2510-4195-87e0-da6ae4124252",
   "metadata": {},
   "source": [
    "## Remesh"
   ]
  },
  {
   "cell_type": "code",
   "execution_count": null,
   "id": "eb0dd468f98a7b56",
   "metadata": {
    "ExecuteTime": {
     "end_time": "2025-01-10T21:20:16.002961Z",
     "start_time": "2025-01-10T21:20:15.982807Z"
    }
   },
   "outputs": [],
   "source": [
    "cfg = configparser.ConfigParser()\n",
    "cfg[\"GENERAL\"] = {\n",
    "    \"meshCellSizeThreshold\": \"0.0001\",\n",
    "    \"meshCellSize\": 8,\n",
    "    \"avalancheDir\": str(avaDir),\n",
    "}\n",
    "\n",
    "pathDem = geoTrans.remeshRaster(avaDEM, cfg, legacy=False)\n",
    "fullP = avaDir / \"Inputs\" / pathDem\n",
    "print(fullP)\n",
    "dataNew = IOf.readRaster(fullP)\n",
    "#subprocess.run([\"head\", \"-n7\", fullP])"
   ]
  },
  {
   "cell_type": "markdown",
   "id": "aa4ce2ee0aadd71d",
   "metadata": {},
   "source": [
    "## Plotting the differences"
   ]
  },
  {
   "cell_type": "code",
   "execution_count": null,
   "id": "13853158702b346e",
   "metadata": {
    "ExecuteTime": {
     "end_time": "2025-01-10T21:20:16.290131Z",
     "start_time": "2025-01-10T21:20:16.275002Z"
    }
   },
   "outputs": [],
   "source": [
    "oldRaster = dataSol\n",
    "newRaster = rU.readRaster(fullP)\n",
    "#print(oldRaster[\"header\"])\n",
    "#print(newRaster[\"header\"])\n",
    "#subprocess.run([\"head\", \"-n7\", fullP])\n",
    "#subprocess.run([\"head\", \"-n7\", fullPNew])"
   ]
  },
  {
   "cell_type": "code",
   "execution_count": null,
   "id": "31925e505ba1af69",
   "metadata": {
    "ExecuteTime": {
     "end_time": "2025-01-10T21:20:16.408322Z",
     "start_time": "2025-01-10T21:20:16.324074Z"
    }
   },
   "outputs": [],
   "source": [
    "rasterio.plot.show(oldRaster['rasterData'])\n",
    "rasterio.plot.show(newRaster['rasterData'])"
   ]
  },
  {
   "cell_type": "code",
   "execution_count": null,
   "id": "130a5e20-43c5-464c-b7cd-eca4b5db3eb9",
   "metadata": {},
   "outputs": [],
   "source": [
    "srcOrigDEM = rasterio.open(avaDEM, 'r')\n",
    "dataOrigDEM = srcOrigDEM.read(1)\n",
    "origX = getXCoords(srcOrigDEM, dataOrigDEM)\n",
    "\n",
    "srcOrigRemesh = rasterio.open(solRaster, 'r')\n",
    "dataOrigRemesh = srcOrigRemesh.read(1)\n",
    "origRemeshX = getXCoords(srcOrigRemesh,dataOrigRemesh)\n",
    "\n",
    "srcNewRemesh = rasterio.open(fullP, 'r')\n",
    "dataNewRemesh = srcNewRemesh.read(1)\n",
    "dataNewRemesh = np.where(dataNewRemesh == srcNewRemesh.nodata, np.nan, dataNewRemesh)\n",
    "newX = getXCoords(srcNewRemesh,dataNewRemesh)\n",
    "\n",
    "\n",
    "\n",
    "# Plot the GeoTIFF\n",
    "#fig, ax = plt.subplots(figsize=(10, 10))\n",
    "fig, (axorig, axOrigRemesh,axNew) = plt.subplots(1, 3, figsize=(19,8))\n",
    "#axorig.set_title(\"OrigDEM\")\n",
    "#axorig.set_xlim([-5, 20])\n",
    "#axorig.set_ylim([-5, 25])\n",
    "#axorig.hlines([-2.5,22.5],-5,20)\n",
    "#axorig.vlines([-2.5,17.5],-5,25)\n",
    "axorig.grid()\n",
    "axOrigRemesh.set_title(\"Orig Remesh\")\n",
    "#axOrigRemesh.set_xlim([-5, 20])\n",
    "#axOrigRemesh.set_ylim([-5, 25])\n",
    "#axOrigRemesh.hlines([-2.5,22.5],-5,20)\n",
    "#axOrigRemesh.vlines([-2.5,17.5],-5,25)\n",
    "axOrigRemesh.grid()\n",
    "axNew.set_title(\"New Remesh\")\n",
    "#axNew.set_xlim([-5, 20])\n",
    "#axNew.set_ylim([-5, 25])\n",
    "#axNew.hlines([-2.5,22.5],-5,20)\n",
    "#axNew.vlines([-2.5,17.5],-5,25)\n",
    "axNew.grid()\n",
    "\n",
    "rasterio.plot.show(dataOrigDEM, transform=srcOrigDEM.transform, ax=axorig, alpha=1, cmap=\"viridis\", zorder=5)\n",
    "rasterio.plot.show(dataOrigRemesh, transform=srcOrigRemesh.transform, ax=axOrigRemesh, alpha=1, cmap=\"viridis\", zorder=5)\n",
    "rasterio.plot.show(dataNewRemesh, transform=srcNewRemesh.transform, ax=axNew, alpha=1, cmap=\"viridis\", zorder=5)\n"
   ]
  },
  {
   "cell_type": "code",
   "execution_count": null,
   "id": "a1679514-de80-4d03-a312-63ce7502b1c8",
   "metadata": {},
   "outputs": [],
   "source": [
    "fig2, ax2 = plt.subplots(figsize=(19,8))\n",
    "profOrig = dataOrigDEM[1,:]\n",
    "profOldRe = dataOrigRemesh[1,:]\n",
    "profNewRe = dataNewRemesh[1,:]\n",
    "ax2.set_xlim([900,1100])\n",
    "plt.plot(origX,profOrig,'-*',label=\"Orig DEM\")\n",
    "plt.plot(origRemeshX,profOldRe,'-x',label=\"Orig Remesh\")\n",
    "plt.plot(newX,profNewRe,'-X',label='New Remesh')\n",
    "ax2.legend()"
   ]
  },
  {
   "cell_type": "code",
   "execution_count": null,
   "id": "42faf119-6850-46bc-b263-6eed3bd4b1a0",
   "metadata": {},
   "outputs": [],
   "source": [
    "fig2, ax2 = plt.subplots(figsize=(19,8))\n",
    "#profOrig = dataOrigDEM[1,:]\n",
    "profOldRe = dataOrigRemesh[1,:]\n",
    "profNewRe = dataNewRemesh[1,:]\n",
    "profDiff = profOldRe - profNewRe\n",
    "plt.plot(newX,profDiff,'-X',label='Difference')\n",
    "ax2.legend()"
   ]
  },
  {
   "cell_type": "code",
   "execution_count": null,
   "id": "7ac31856-0240-4d7a-b3cf-3201fd1ec240",
   "metadata": {},
   "outputs": [],
   "source": []
  }
 ],
 "metadata": {
  "kernelspec": {
   "display_name": "Python 3 (ipykernel)",
   "language": "python",
   "name": "python3"
  },
  "language_info": {
   "codemirror_mode": {
    "name": "ipython",
    "version": 3
   },
   "file_extension": ".py",
   "mimetype": "text/x-python",
   "name": "python",
   "nbconvert_exporter": "python",
   "pygments_lexer": "ipython3",
   "version": "3.12.3"
  }
 },
 "nbformat": 4,
 "nbformat_minor": 5
}
