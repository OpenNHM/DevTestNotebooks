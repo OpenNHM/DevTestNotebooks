{
 "cells": [
  {
   "cell_type": "code",
   "execution_count": null,
   "id": "e46178aa592af707",
   "metadata": {
    "ExecuteTime": {
     "end_time": "2025-01-08T15:53:21.639551Z",
     "start_time": "2025-01-08T15:53:21.635194Z"
    }
   },
   "outputs": [],
   "source": [
    "import rasterio\n",
    "import rasterio.plot\n",
    "from avaframe.in2Trans import rasterUtils as rU\n",
    "from pathlib import Path"
   ]
  },
  {
   "cell_type": "markdown",
   "id": "c30e70f21d6e6568",
   "metadata": {},
   "source": [
    "### Idea is to test corner vs center with 2 file that have the same data in it\n",
    "\n",
    "NordketteCorner contains:\n",
    "\n",
    "xllcorner    76507.5\n",
    "\n",
    "yllcorner    239507.5\n",
    "\n",
    "NordketteCenter contains:\n",
    "\n",
    "xllcenter    76510\n",
    "\n",
    "yllcenter    239510\n",
    "\n",
    "**I.e. they are the same data**\n",
    "\n",
    "AvaFrame handles data with llcenter (i.e. South West)\n",
    "RasterIO always uses North West Corner (ulcorner) as reference"
   ]
  },
  {
   "cell_type": "code",
   "execution_count": null,
   "id": "d11c4f96bf3f7518",
   "metadata": {
    "ExecuteTime": {
     "end_time": "2025-01-08T15:53:21.694819Z",
     "start_time": "2025-01-08T15:53:21.685854Z"
    }
   },
   "outputs": [],
   "source": [
    "cornerFile = \"NordketteCorner.asc\"\n",
    "centerFile = \"NordketteCenter.asc\"\n",
    "\n",
    "rasterCorner = rasterio.open(cornerFile)\n",
    "rasterCenter = rasterio.open(centerFile)"
   ]
  },
  {
   "cell_type": "markdown",
   "id": "e12d858a8d6d0905",
   "metadata": {},
   "source": [
    "Corner is taken as is"
   ]
  },
  {
   "cell_type": "code",
   "execution_count": null,
   "id": "c70c31549ccbc9af",
   "metadata": {
    "ExecuteTime": {
     "end_time": "2025-01-08T15:53:21.740139Z",
     "start_time": "2025-01-08T15:53:21.737570Z"
    }
   },
   "outputs": [],
   "source": [
    "print(rasterCorner.transform)"
   ]
  },
  {
   "cell_type": "markdown",
   "id": "c18af5a133314438",
   "metadata": {},
   "source": [
    "Center is transformed"
   ]
  },
  {
   "cell_type": "code",
   "execution_count": null,
   "id": "28873d2cddd0529",
   "metadata": {
    "ExecuteTime": {
     "end_time": "2025-01-08T15:53:21.792916Z",
     "start_time": "2025-01-08T15:53:21.790866Z"
    }
   },
   "outputs": [],
   "source": [
    "print(rasterCenter.transform)"
   ]
  },
  {
   "cell_type": "markdown",
   "id": "b2f50c334b851a3d",
   "metadata": {},
   "source": [
    "Afterwards both rasterIO objects have corner as reference (North West)!\n",
    "\n",
    "Reading the cornerFile raster with AvaFrame readRaster leads to the correct llcenter"
   ]
  },
  {
   "cell_type": "code",
   "execution_count": null,
   "id": "9edbcf96f30c195",
   "metadata": {
    "ExecuteTime": {
     "end_time": "2025-01-08T15:53:21.902354Z",
     "start_time": "2025-01-08T15:53:21.842042Z"
    }
   },
   "outputs": [],
   "source": [
    "avaRasterCorner = rU.readRaster(cornerFile)\n",
    "print(avaRasterCorner[\"header\"])"
   ]
  },
  {
   "cell_type": "markdown",
   "id": "2da1b0424a519bbc",
   "metadata": {},
   "source": [
    "Reading the centerFile raster with AvaFrame readRaster leads to the correct llcenter"
   ]
  },
  {
   "cell_type": "code",
   "execution_count": null,
   "id": "f156bdc92ef1a944",
   "metadata": {
    "ExecuteTime": {
     "end_time": "2025-01-08T15:53:21.972767Z",
     "start_time": "2025-01-08T15:53:21.907716Z"
    }
   },
   "outputs": [],
   "source": [
    "avaRasterCenter = rU.readRaster(centerFile)\n",
    "print(avaRasterCenter[\"header\"])"
   ]
  },
  {
   "cell_type": "code",
   "execution_count": null,
   "id": "5f13743092a2d4a7",
   "metadata": {
    "ExecuteTime": {
     "end_time": "2025-01-08T15:53:22.336481Z",
     "start_time": "2025-01-08T15:53:21.977914Z"
    }
   },
   "outputs": [],
   "source": [
    "writeOutCornerFile = Path(\"./NordketteCornerOutFile\")\n",
    "writeOutCenterFile = Path(\"./NordketteCenterOutFile\")\n",
    "\n",
    "rU.writeResultToRaster(avaRasterCorner[\"header\"], avaRasterCorner[\"rasterData\"], writeOutCornerFile)\n",
    "rU.writeResultToRaster(avaRasterCenter[\"header\"], avaRasterCenter[\"rasterData\"], writeOutCenterFile)\n"
   ]
  },
  {
   "cell_type": "markdown",
   "id": "7b4699740c8be998",
   "metadata": {},
   "source": [
    "**The outfiles have the correct header info. BOTH WITH CORNER!!! As rasterio ONLY writes corner**"
   ]
  }
 ],
 "metadata": {
  "kernelspec": {
   "display_name": "Python 3 (ipykernel)",
   "language": "python",
   "name": "python3"
  },
  "language_info": {
   "codemirror_mode": {
    "name": "ipython",
    "version": 3
   },
   "file_extension": ".py",
   "mimetype": "text/x-python",
   "name": "python",
   "nbconvert_exporter": "python",
   "pygments_lexer": "ipython3",
   "version": "3.12.3"
  }
 },
 "nbformat": 4,
 "nbformat_minor": 5
}
